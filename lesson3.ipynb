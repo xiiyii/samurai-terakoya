{
  "nbformat": 4,
  "nbformat_minor": 0,
  "metadata": {
    "colab": {
      "provenance": [],
      "toc_visible": true,
      "authorship_tag": "ABX9TyMJ0Wi/r4UCyxzkPoB+zbVG",
      "include_colab_link": true
    },
    "kernelspec": {
      "name": "python3",
      "display_name": "Python 3"
    },
    "language_info": {
      "name": "python"
    }
  },
  "cells": [
    {
      "cell_type": "markdown",
      "metadata": {
        "id": "view-in-github",
        "colab_type": "text"
      },
      "source": [
        "<a href=\"https://colab.research.google.com/github/xiiyii/samurai-terakoya/blob/fix/lesson3.ipynb\" target=\"_parent\"><img src=\"https://colab.research.google.com/assets/colab-badge.svg\" alt=\"Open In Colab\"/></a>"
      ]
    },
    {
      "cell_type": "code",
      "execution_count": 4,
      "metadata": {
        "id": "OGkzwiy3SNaG",
        "colab": {
          "base_uri": "https://localhost:8080/"
        },
        "outputId": "376331ae-5556-4c04-952f-020938f67b50"
      },
      "outputs": [
        {
          "output_type": "stream",
          "name": "stdout",
          "text": [
            "ssss\n"
          ]
        }
      ],
      "source": [
        "use_name = \"ssss\"\n",
        "use_name\n",
        "nse_name = \"ssss\"\n",
        "print(use_name)"
      ]
    },
    {
      "cell_type": "code",
      "source": [
        "print(use_name)"
      ],
      "metadata": {
        "colab": {
          "base_uri": "https://localhost:8080/"
        },
        "id": "KM1zuZQKJLv4",
        "outputId": "4a0c6e8e-b428-4791-902b-279129f3bf44"
      },
      "execution_count": 5,
      "outputs": [
        {
          "output_type": "stream",
          "name": "stdout",
          "text": [
            "ssss\n"
          ]
        }
      ]
    },
    {
      "cell_type": "code",
      "source": [
        "from google.colab import drive\n",
        "drive.mount('/content/drive')"
      ],
      "metadata": {
        "id": "c5sBw9EyKHX-"
      },
      "execution_count": null,
      "outputs": []
    },
    {
      "cell_type": "code",
      "source": [],
      "metadata": {
        "id": "rqDirgjISa_S"
      },
      "execution_count": null,
      "outputs": []
    }
  ]
}